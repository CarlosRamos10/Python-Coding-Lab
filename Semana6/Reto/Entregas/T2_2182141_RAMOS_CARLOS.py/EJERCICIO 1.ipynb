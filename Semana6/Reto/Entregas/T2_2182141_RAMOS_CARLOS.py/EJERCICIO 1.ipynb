{
 "cells": [
  {
   "cell_type": "code",
   "execution_count": 3,
   "id": "f9e64b56",
   "metadata": {},
   "outputs": [],
   "source": [
    "import numpy as np\n",
    "import sympy as sp\n",
    "import pandas as pd\n"
   ]
  },
  {
   "cell_type": "code",
   "execution_count": 4,
   "id": "dfa0929a",
   "metadata": {},
   "outputs": [
    {
     "data": {
      "text/plain": [
       "0.47500000000000003"
      ]
     },
     "execution_count": 4,
     "metadata": {},
     "output_type": "execute_result"
    }
   ],
   "source": [
    "#codigo = input()\n",
    "codigo = 2182141\n",
    "codigostr = str(codigo)\n",
    "X=0\n",
    "for digit in codigostr:\n",
    "    X=X+int(digit)\n",
    "X=int(X)   \n",
    "Y= X/3\n",
    "W=0.005*X + 0.01*Y\n",
    "P=0.05*X\n",
    "teta=45\n",
    "L1 =0.05*X\n",
    "L2 =1.5*L1\n",
    "L3 =0.5*L1\n",
    "L3"
   ]
  },
  {
   "cell_type": "code",
   "execution_count": 5,
   "id": "6680ca2f",
   "metadata": {},
   "outputs": [
    {
     "data": {
      "text/plain": [
       "0.6717514421272203"
      ]
     },
     "execution_count": 5,
     "metadata": {},
     "output_type": "execute_result"
    }
   ],
   "source": [
    "#equilibrio externo\n",
    "Ma = (L1 * 2/3)*(L1 * W/2)   +   (L1+ L2/2)*L2*W   +   (L1 +L2+ L3/3)*L3* W/2   -   P*np.sin(teta *  np.pi/180)\n",
    "Ax = P*np.cos(teta*np.pi/180)\n",
    "Ay = L1*W/2 + L2*W + L3*W/2 - P*np.sin(teta*np.pi/180)\n",
    "P*np.sin(teta *  np.pi/180)"
   ]
  },
  {
   "cell_type": "code",
   "execution_count": 6,
   "id": "ee81aa8e",
   "metadata": {},
   "outputs": [],
   "source": [
    "x, W1, W2, W3, V1, V2, V3, M1, M2, M3, Ay, Ma = sp.symbols('x W1 W2 W3 V1 V2 V3 M1 M2 M3 Ay Ma')"
   ]
  },
  {
   "cell_type": "code",
   "execution_count": 7,
   "id": "b74f3446",
   "metadata": {},
   "outputs": [
    {
     "data": {
      "text/latex": [
       "$\\displaystyle 2.375 Ay - Ma + 0.0555555555555556 x^{3} - 0.0791666666666667 x^{2} + x \\left(1.0 Ay - 0.300833333333333\\right) - 0.291745659722222$"
      ],
      "text/plain": [
       "2.375*Ay - Ma + 0.0555555555555556*x**3 - 0.0791666666666667*x**2 + x*(1.0*Ay - 0.300833333333333) - 0.291745659722222"
      ]
     },
     "execution_count": 7,
     "metadata": {},
     "output_type": "execute_result"
    }
   ],
   "source": [
    "#equilibrio interno\n",
    "#tramo1 (0<x<l1)\n",
    "W1 = W/L1 * x\n",
    "V1 = Ay - sp.integrate(W1, x)\n",
    "M1 = sp.integrate(V1, x) - Ma\n",
    "#tramo2 (l1<x<l2)\n",
    "W2 = W\n",
    "V2 = V1.subs([(Ay,Ay),(x,L1)]) - sp.integrate(W2, x)\n",
    "M2 = M1.subs([(Ay,Ay),(x,L1)]) + sp.integrate(V2, x)\n",
    "#tramo3 (l2<x<l3)\n",
    "W3 = W - ( W/L3 * x) \n",
    "V3 = V2.subs([(Ay,Ay),(x,L2)]) - sp.integrate(W3, x)\n",
    "M3 = M2.subs([(Ay,Ay),(x,L2)]) + sp.integrate(V3, x)\n",
    "M3"
   ]
  },
  {
   "cell_type": "code",
   "execution_count": 9,
   "id": "7923cb81",
   "metadata": {},
   "outputs": [
    {
     "ename": "TypeError",
     "evalue": "'Add' object is not callable",
     "output_type": "error",
     "traceback": [
      "\u001b[1;31m---------------------------------------------------------------------------\u001b[0m",
      "\u001b[1;31mTypeError\u001b[0m                                 Traceback (most recent call last)",
      "\u001b[1;32m~\\AppData\\Local\\Temp/ipykernel_14784/1009570388.py\u001b[0m in \u001b[0;36m<module>\u001b[1;34m\u001b[0m\n\u001b[0;32m      1\u001b[0m \u001b[0mXarray\u001b[0m \u001b[1;33m=\u001b[0m \u001b[0mnp\u001b[0m\u001b[1;33m.\u001b[0m\u001b[0marange\u001b[0m\u001b[1;33m(\u001b[0m\u001b[1;36m0\u001b[0m\u001b[1;33m,\u001b[0m\u001b[1;33m(\u001b[0m\u001b[0mL1\u001b[0m\u001b[1;33m+\u001b[0m\u001b[0mL2\u001b[0m\u001b[1;33m+\u001b[0m\u001b[0mL3\u001b[0m\u001b[1;33m)\u001b[0m\u001b[1;33m+\u001b[0m\u001b[1;36m0.05\u001b[0m\u001b[1;33m,\u001b[0m\u001b[1;36m0.05\u001b[0m\u001b[1;33m)\u001b[0m\u001b[1;33m\u001b[0m\u001b[1;33m\u001b[0m\u001b[0m\n\u001b[1;32m----> 2\u001b[1;33m \u001b[0mYray1\u001b[0m \u001b[1;33m=\u001b[0m \u001b[0msp\u001b[0m\u001b[1;33m.\u001b[0m\u001b[0mlambdify\u001b[0m\u001b[1;33m(\u001b[0m\u001b[0mx\u001b[0m\u001b[1;33m,\u001b[0m\u001b[1;33m(\u001b[0m\u001b[0mV1\u001b[0m\u001b[1;33m)\u001b[0m\u001b[1;33m(\u001b[0m\u001b[0mXarray\u001b[0m\u001b[1;33m)\u001b[0m\u001b[1;33m)\u001b[0m\u001b[1;33m\u001b[0m\u001b[1;33m\u001b[0m\u001b[0m\n\u001b[0m\u001b[0;32m      3\u001b[0m \u001b[0mplt\u001b[0m\u001b[1;33m.\u001b[0m\u001b[0mplot\u001b[0m\u001b[1;33m(\u001b[0m\u001b[0mXarray\u001b[0m\u001b[1;33m[\u001b[0m\u001b[0mXarray\u001b[0m\u001b[1;33m<=\u001b[0m\u001b[1;36m2\u001b[0m\u001b[1;33m]\u001b[0m\u001b[1;33m,\u001b[0m\u001b[0mYray1\u001b[0m\u001b[1;33m[\u001b[0m\u001b[0mXarray\u001b[0m\u001b[1;33m<=\u001b[0m\u001b[1;36m2\u001b[0m\u001b[1;33m]\u001b[0m\u001b[1;33m)\u001b[0m\u001b[1;33m\u001b[0m\u001b[1;33m\u001b[0m\u001b[0m\n\u001b[0;32m      4\u001b[0m \u001b[0mplt\u001b[0m\u001b[1;33m.\u001b[0m\u001b[0mplot\u001b[0m\u001b[1;33m(\u001b[0m\u001b[0mXarray\u001b[0m\u001b[1;33m[\u001b[0m\u001b[0mXarray\u001b[0m\u001b[1;33m>\u001b[0m\u001b[1;36m2\u001b[0m\u001b[1;33m]\u001b[0m\u001b[1;33m,\u001b[0m\u001b[0mYray1\u001b[0m\u001b[1;33m[\u001b[0m\u001b[0mXarray\u001b[0m\u001b[1;33m>\u001b[0m\u001b[1;36m2\u001b[0m\u001b[1;33m]\u001b[0m\u001b[1;33m)\u001b[0m\u001b[1;33m\u001b[0m\u001b[1;33m\u001b[0m\u001b[0m\n\u001b[0;32m      5\u001b[0m \u001b[0mplt\u001b[0m\u001b[1;33m.\u001b[0m\u001b[0mshow\u001b[0m\u001b[1;33m(\u001b[0m\u001b[1;33m)\u001b[0m\u001b[1;33m\u001b[0m\u001b[1;33m\u001b[0m\u001b[0m\n",
      "\u001b[1;31mTypeError\u001b[0m: 'Add' object is not callable"
     ]
    }
   ],
   "source": [
    "XXarray1 = np.arange(0,L1+0.05,0.05)\n",
    "XXarray2 = np.arange(L1,L2+0.05,0.05)\n",
    "XXarray3 = np.arange(L2,L3+0.05,0.05)\n",
    "Yray1 = sp.lambdify(x,(V1)(Xarray1))\n",
    "Yray2 = sp.lambdify(x,(V2)(Xarray))\n",
    "Yray3 = sp.lambdify(x,(V3)(Xarray))\n",
    "plt.plot(Xarray1[Xarray1<=L1],Yray1[Xarray1<=L1])\n",
    "plt.plot(Xarray2[Xarray2>L1 and Xarray2<L3],Yray2[Xarray2>2])\n",
    "plt.plot(Xarray3[Xarray3<=L3],Yray13[Xarray<=2])\n",
    "plt.plot(Xarray[Xarray>2],Yray1[Xarray>2])\n",
    "plt.show()"
   ]
  }
 ],
 "metadata": {
  "kernelspec": {
   "display_name": "Python 3 (ipykernel)",
   "language": "python",
   "name": "python3"
  },
  "language_info": {
   "codemirror_mode": {
    "name": "ipython",
    "version": 3
   },
   "file_extension": ".py",
   "mimetype": "text/x-python",
   "name": "python",
   "nbconvert_exporter": "python",
   "pygments_lexer": "ipython3",
   "version": "3.10.0"
  }
 },
 "nbformat": 4,
 "nbformat_minor": 5
}
